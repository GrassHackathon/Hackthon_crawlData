{
 "cells": [
  {
   "cell_type": "code",
   "execution_count": 23,
   "metadata": {},
   "outputs": [],
   "source": [
    "import pandas as pd\n",
    "import numpy as np\n",
    "import requests\n",
    "from bs4 import BeautifulSoup"
   ]
  },
  {
   "cell_type": "code",
   "execution_count": 27,
   "metadata": {},
   "outputs": [],
   "source": [
    "cols = ['name', 'date', 'address', 'infoLink']\n",
    "catagoryDict = {'2': 'Learning', '4': 'Performance', '11': 'Exhibition', '7': 'Mixer', '8': 'Foods', '6': 'Outdoors'}\n",
    "df_name = pd.DataFrame(columns = [cols[0]])\n",
    "df_date = pd.DataFrame(columns = [cols[1]])\n",
    "df_address = pd.DataFrame(columns = [cols[2]])\n",
    "df_info = pd.DataFrame(columns = [cols[3]])"
   ]
  },
  {
   "cell_type": "code",
   "execution_count": 24,
   "metadata": {},
   "outputs": [],
   "source": [
    "def parseEventData(urlBase, catagory):\n",
    "    catagoryValue = catagoryDict[catagory]\n",
    "    \n",
    "    res = requests.get(url + catagory)\n",
    "    soup = soup = BeautifulSoup(res.text, \"lxml\")\n",
    "    \n",
    "    rawDateData = soup.select('.timezoneSuffix')\n",
    "    rawEventNameData = soup.select('h2 a')\n",
    "    rawInfoHref = soup.select('.btn-point')\n",
    "    \n",
    "    for rawDate in rawDateData:\n",
    "        date = rawDate.get_text()\n",
    "        df_date = df_date.append({'date': date}, ignore_index=True)\n",
    "\n",
    "    for event in rawEventNameData:\n",
    "        eventName = event.get_text()\n",
    "        df_name = df_name.append({'name': eventName}, ignore_index=True)\n",
    "\n",
    "    for a in soup.find_all('a', href=True, attrs={'class': 'btn-point btn-small pull-right'}):\n",
    "        eventInfoLink = a['href']\n",
    "        df_info = df_info.append({'infoLink': eventInfoLink}, ignore_index=True)\n",
    "        \n",
    "        infoRes = requests.get(eventInfoLink)\n",
    "        infoSoup = BeautifulSoup(infoRes.text, \"lxml\")\n",
    "        for span in infoSoup.find_all('span', attrs={'class': 'info-desc'}):\n",
    "            if span.findChildren('i', attrs={'class': 'fa fa-map-marker'}):\n",
    "                address = span.get_text()\n",
    "                df_address = df_address.append({'address': address}, ignore_index=True)"
   ]
  },
  {
   "cell_type": "code",
   "execution_count": null,
   "metadata": {},
   "outputs": [],
   "source": [
    "def combineData():\n",
    "    df = pd.concat([df_name, df_date, df_address, df_info], axis=1)\n",
    "    df = df.replace(r'^\\s*$', np.nan, regex=True)\n",
    "    df = df.dropna()\n",
    "    df = df.to_dict()"
   ]
  },
  {
   "cell_type": "code",
   "execution_count": 25,
   "metadata": {},
   "outputs": [
    {
     "data": {
      "text/plain": [
       "{'name': {2: '細野晴臣 Concert Tour',\n",
       "  3: '【雙人/單人預售票】ORANGE RANGE LIVE TOUR 018－019～ELEVEN PIECE～',\n",
       "  4: 'ORANGE RANGE LIVE TOUR 018－019～ELEVEN PIECE～',\n",
       "  5: '【OR官方FC會員限定票】ORANGE RANGE LIVE TOUR 018－019～ELEVEN PIECE～',\n",
       "  6: '洛基恐怖秀新年狂歡場 Rocky Horror New Years Show',\n",
       "  7: 'Deca joins ‘Go Slow’-台南_2',\n",
       "  8: '2019 江美琪<我愛江美琪>演唱會 ',\n",
       "  9: 'Deca joins ‘Go Slow’-台南_1'},\n",
       " 'date': {2: '2019/02/23 19:30(+0800)',\n",
       "  3: '2019/02/16 19:00(+0800)',\n",
       "  4: '2019/02/16 19:00(+0800)',\n",
       "  5: '2019/02/16 19:00(+0800)',\n",
       "  6: '2019/01/12 21:00(+0800)',\n",
       "  7: '2019/01/12 20:00(+0800)',\n",
       "  8: '2019/01/12 19:30(+0800)',\n",
       "  9: '2019/01/11 20:00(+0800)'},\n",
       " 'address': {2: '西門町WESTAR  / 台北市萬華區漢中街116號8樓',\n",
       "  3: 'Legacy Taipei 音樂展演空間 / 台北市八德路一段一號 華山中五A館',\n",
       "  4: 'Legacy Taipei / 台北市八德路一段一號 中5A館',\n",
       "  5: 'Legacy Taipei / 台北市八德路一段一號 中5A館',\n",
       "  6: '京華城喜滿客戲院 / 台北市松山區八德路四段138號B1',\n",
       "  7: 'TCRC / 700台南市中西區西門路二段314號',\n",
       "  8: '台北國際會議中心 / 臺北市信義路五段1號',\n",
       "  9: 'TCRC / 700台南市中西區西門路二段314號'},\n",
       " 'infoLink': {2: 'https://bluetreepress2.kktix.cc/events/44b2e52a',\n",
       "  3: 'https://gutsrecords.kktix.cc/events/3w6a3rh',\n",
       "  4: 'https://gutsrecords.kktix.cc/events/tj5eq46',\n",
       "  5: 'https://gutsrecords.kktix.cc/events/1j6ra5ew',\n",
       "  6: 'https://twrhps.kktix.cc/events/2019newyears',\n",
       "  7: 'https://airheadrecords.kktix.cc/events/goslowtainan2',\n",
       "  8: 'https://i-chen.kktix.cc/events/maggiechiang-3w2eq',\n",
       "  9: 'https://airheadrecords.kktix.cc/events/goslowtainan1'}}"
      ]
     },
     "execution_count": 25,
     "metadata": {},
     "output_type": "execute_result"
    }
   ],
   "source": [
    "catagories = ['2', '4', '11', '7', '8' ,'6']\n",
    "\n",
    "for catagory in catagories:\n",
    "    urlBased = 'https://kktix.com/events?category_id='\n",
    "    parseEventData(urlBased, catagory)\n",
    "    combineData()"
   ]
  },
  {
   "cell_type": "code",
   "execution_count": null,
   "metadata": {},
   "outputs": [],
   "source": []
  }
 ],
 "metadata": {
  "kernelspec": {
   "display_name": "Python 3",
   "language": "python",
   "name": "python3"
  },
  "language_info": {
   "codemirror_mode": {
    "name": "ipython",
    "version": 3
   },
   "file_extension": ".py",
   "mimetype": "text/x-python",
   "name": "python",
   "nbconvert_exporter": "python",
   "pygments_lexer": "ipython3",
   "version": "3.6.5"
  }
 },
 "nbformat": 4,
 "nbformat_minor": 2
}
